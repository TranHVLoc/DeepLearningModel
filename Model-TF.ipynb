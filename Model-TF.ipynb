{
 "cells": [
  {
   "cell_type": "markdown",
   "id": "322ef01b",
   "metadata": {},
   "source": [
    "<a name = '1'></a>\n",
    "## 1 - Packages"
   ]
  },
  {
   "cell_type": "code",
   "execution_count": 1,
   "id": "ba81d180",
   "metadata": {},
   "outputs": [],
   "source": [
    "# Import numpy and pandas libraries to read the data\n",
    "import numpy as np\n",
    "import pandas as pd\n",
    "import tensorflow as tf\n",
    "import matplotlib.pyplot as plt\n",
    "\n",
    "from tensorflow import keras\n",
    "from numpy import *\n",
    "from sklearn.model_selection import train_test_split\n",
    "\n",
    "%matplotlib inline"
   ]
  },
  {
   "cell_type": "markdown",
   "id": "73a4e1b1",
   "metadata": {},
   "source": [
    "<a name = '2'></a>\n",
    "## 2 - Data and Visualizing"
   ]
  },
  {
   "cell_type": "code",
   "execution_count": 2,
   "id": "2107917f",
   "metadata": {
    "scrolled": true
   },
   "outputs": [
    {
     "data": {
      "text/html": [
       "<div>\n",
       "<style scoped>\n",
       "    .dataframe tbody tr th:only-of-type {\n",
       "        vertical-align: middle;\n",
       "    }\n",
       "\n",
       "    .dataframe tbody tr th {\n",
       "        vertical-align: top;\n",
       "    }\n",
       "\n",
       "    .dataframe thead th {\n",
       "        text-align: right;\n",
       "    }\n",
       "</style>\n",
       "<table border=\"1\" class=\"dataframe\">\n",
       "  <thead>\n",
       "    <tr style=\"text-align: right;\">\n",
       "      <th></th>\n",
       "      <th>X</th>\n",
       "      <th>Y</th>\n",
       "    </tr>\n",
       "  </thead>\n",
       "  <tbody>\n",
       "    <tr>\n",
       "      <th>0</th>\n",
       "      <td>0.00</td>\n",
       "      <td>0.0000</td>\n",
       "    </tr>\n",
       "    <tr>\n",
       "      <th>1</th>\n",
       "      <td>0.50</td>\n",
       "      <td>0.2500</td>\n",
       "    </tr>\n",
       "    <tr>\n",
       "      <th>2</th>\n",
       "      <td>1.00</td>\n",
       "      <td>1.0000</td>\n",
       "    </tr>\n",
       "    <tr>\n",
       "      <th>3</th>\n",
       "      <td>1.50</td>\n",
       "      <td>2.2500</td>\n",
       "    </tr>\n",
       "    <tr>\n",
       "      <th>4</th>\n",
       "      <td>2.00</td>\n",
       "      <td>4.0000</td>\n",
       "    </tr>\n",
       "    <tr>\n",
       "      <th>5</th>\n",
       "      <td>2.25</td>\n",
       "      <td>5.0625</td>\n",
       "    </tr>\n",
       "    <tr>\n",
       "      <th>6</th>\n",
       "      <td>3.00</td>\n",
       "      <td>9.0000</td>\n",
       "    </tr>\n",
       "    <tr>\n",
       "      <th>7</th>\n",
       "      <td>3.20</td>\n",
       "      <td>10.2400</td>\n",
       "    </tr>\n",
       "    <tr>\n",
       "      <th>8</th>\n",
       "      <td>4.00</td>\n",
       "      <td>16.0000</td>\n",
       "    </tr>\n",
       "    <tr>\n",
       "      <th>9</th>\n",
       "      <td>4.50</td>\n",
       "      <td>20.2500</td>\n",
       "    </tr>\n",
       "    <tr>\n",
       "      <th>10</th>\n",
       "      <td>5.00</td>\n",
       "      <td>25.0000</td>\n",
       "    </tr>\n",
       "    <tr>\n",
       "      <th>11</th>\n",
       "      <td>5.50</td>\n",
       "      <td>30.2500</td>\n",
       "    </tr>\n",
       "    <tr>\n",
       "      <th>12</th>\n",
       "      <td>6.00</td>\n",
       "      <td>36.0000</td>\n",
       "    </tr>\n",
       "    <tr>\n",
       "      <th>13</th>\n",
       "      <td>6.10</td>\n",
       "      <td>37.2100</td>\n",
       "    </tr>\n",
       "    <tr>\n",
       "      <th>14</th>\n",
       "      <td>7.00</td>\n",
       "      <td>49.0000</td>\n",
       "    </tr>\n",
       "    <tr>\n",
       "      <th>15</th>\n",
       "      <td>7.50</td>\n",
       "      <td>56.2500</td>\n",
       "    </tr>\n",
       "    <tr>\n",
       "      <th>16</th>\n",
       "      <td>8.00</td>\n",
       "      <td>64.0000</td>\n",
       "    </tr>\n",
       "    <tr>\n",
       "      <th>17</th>\n",
       "      <td>8.40</td>\n",
       "      <td>70.5600</td>\n",
       "    </tr>\n",
       "    <tr>\n",
       "      <th>18</th>\n",
       "      <td>9.00</td>\n",
       "      <td>81.0000</td>\n",
       "    </tr>\n",
       "    <tr>\n",
       "      <th>19</th>\n",
       "      <td>9.40</td>\n",
       "      <td>88.3600</td>\n",
       "    </tr>\n",
       "    <tr>\n",
       "      <th>20</th>\n",
       "      <td>10.00</td>\n",
       "      <td>100.0000</td>\n",
       "    </tr>\n",
       "    <tr>\n",
       "      <th>21</th>\n",
       "      <td>10.50</td>\n",
       "      <td>110.2500</td>\n",
       "    </tr>\n",
       "    <tr>\n",
       "      <th>22</th>\n",
       "      <td>11.00</td>\n",
       "      <td>121.0000</td>\n",
       "    </tr>\n",
       "    <tr>\n",
       "      <th>23</th>\n",
       "      <td>12.00</td>\n",
       "      <td>144.0000</td>\n",
       "    </tr>\n",
       "    <tr>\n",
       "      <th>24</th>\n",
       "      <td>13.00</td>\n",
       "      <td>169.0000</td>\n",
       "    </tr>\n",
       "    <tr>\n",
       "      <th>25</th>\n",
       "      <td>14.00</td>\n",
       "      <td>196.0000</td>\n",
       "    </tr>\n",
       "    <tr>\n",
       "      <th>26</th>\n",
       "      <td>15.00</td>\n",
       "      <td>225.0000</td>\n",
       "    </tr>\n",
       "    <tr>\n",
       "      <th>27</th>\n",
       "      <td>16.00</td>\n",
       "      <td>256.0000</td>\n",
       "    </tr>\n",
       "    <tr>\n",
       "      <th>28</th>\n",
       "      <td>17.00</td>\n",
       "      <td>289.0000</td>\n",
       "    </tr>\n",
       "    <tr>\n",
       "      <th>29</th>\n",
       "      <td>18.00</td>\n",
       "      <td>324.0000</td>\n",
       "    </tr>\n",
       "    <tr>\n",
       "      <th>30</th>\n",
       "      <td>19.00</td>\n",
       "      <td>361.0000</td>\n",
       "    </tr>\n",
       "    <tr>\n",
       "      <th>31</th>\n",
       "      <td>20.00</td>\n",
       "      <td>400.0000</td>\n",
       "    </tr>\n",
       "  </tbody>\n",
       "</table>\n",
       "</div>"
      ],
      "text/plain": [
       "        X         Y\n",
       "0    0.00    0.0000\n",
       "1    0.50    0.2500\n",
       "2    1.00    1.0000\n",
       "3    1.50    2.2500\n",
       "4    2.00    4.0000\n",
       "5    2.25    5.0625\n",
       "6    3.00    9.0000\n",
       "7    3.20   10.2400\n",
       "8    4.00   16.0000\n",
       "9    4.50   20.2500\n",
       "10   5.00   25.0000\n",
       "11   5.50   30.2500\n",
       "12   6.00   36.0000\n",
       "13   6.10   37.2100\n",
       "14   7.00   49.0000\n",
       "15   7.50   56.2500\n",
       "16   8.00   64.0000\n",
       "17   8.40   70.5600\n",
       "18   9.00   81.0000\n",
       "19   9.40   88.3600\n",
       "20  10.00  100.0000\n",
       "21  10.50  110.2500\n",
       "22  11.00  121.0000\n",
       "23  12.00  144.0000\n",
       "24  13.00  169.0000\n",
       "25  14.00  196.0000\n",
       "26  15.00  225.0000\n",
       "27  16.00  256.0000\n",
       "28  17.00  289.0000\n",
       "29  18.00  324.0000\n",
       "30  19.00  361.0000\n",
       "31  20.00  400.0000"
      ]
     },
     "execution_count": 2,
     "metadata": {},
     "output_type": "execute_result"
    }
   ],
   "source": [
    "# Load dataset\n",
    "square = pd.read_csv(\"training_data.csv\")\n",
    "square"
   ]
  },
  {
   "cell_type": "code",
   "execution_count": 3,
   "id": "d4a6f220",
   "metadata": {},
   "outputs": [
    {
     "data": {
      "text/plain": [
       "(32, 2)"
      ]
     },
     "execution_count": 3,
     "metadata": {},
     "output_type": "execute_result"
    }
   ],
   "source": [
    "# Shape of the training data set\n",
    "square.shape"
   ]
  },
  {
   "cell_type": "code",
   "execution_count": 4,
   "id": "67972fc3",
   "metadata": {},
   "outputs": [
    {
     "data": {
      "text/html": [
       "<div>\n",
       "<style scoped>\n",
       "    .dataframe tbody tr th:only-of-type {\n",
       "        vertical-align: middle;\n",
       "    }\n",
       "\n",
       "    .dataframe tbody tr th {\n",
       "        vertical-align: top;\n",
       "    }\n",
       "\n",
       "    .dataframe thead th {\n",
       "        text-align: right;\n",
       "    }\n",
       "</style>\n",
       "<table border=\"1\" class=\"dataframe\">\n",
       "  <thead>\n",
       "    <tr style=\"text-align: right;\">\n",
       "      <th></th>\n",
       "      <th>X</th>\n",
       "      <th>Y</th>\n",
       "    </tr>\n",
       "  </thead>\n",
       "  <tbody>\n",
       "    <tr>\n",
       "      <th>count</th>\n",
       "      <td>32.000000</td>\n",
       "      <td>32.000000</td>\n",
       "    </tr>\n",
       "    <tr>\n",
       "      <th>mean</th>\n",
       "      <td>8.417188</td>\n",
       "      <td>103.154141</td>\n",
       "    </tr>\n",
       "    <tr>\n",
       "      <th>std</th>\n",
       "      <td>5.774703</td>\n",
       "      <td>115.439105</td>\n",
       "    </tr>\n",
       "    <tr>\n",
       "      <th>min</th>\n",
       "      <td>0.000000</td>\n",
       "      <td>0.000000</td>\n",
       "    </tr>\n",
       "    <tr>\n",
       "      <th>25%</th>\n",
       "      <td>3.800000</td>\n",
       "      <td>14.560000</td>\n",
       "    </tr>\n",
       "    <tr>\n",
       "      <th>50%</th>\n",
       "      <td>7.750000</td>\n",
       "      <td>60.125000</td>\n",
       "    </tr>\n",
       "    <tr>\n",
       "      <th>75%</th>\n",
       "      <td>12.250000</td>\n",
       "      <td>150.250000</td>\n",
       "    </tr>\n",
       "    <tr>\n",
       "      <th>max</th>\n",
       "      <td>20.000000</td>\n",
       "      <td>400.000000</td>\n",
       "    </tr>\n",
       "  </tbody>\n",
       "</table>\n",
       "</div>"
      ],
      "text/plain": [
       "               X           Y\n",
       "count  32.000000   32.000000\n",
       "mean    8.417188  103.154141\n",
       "std     5.774703  115.439105\n",
       "min     0.000000    0.000000\n",
       "25%     3.800000   14.560000\n",
       "50%     7.750000   60.125000\n",
       "75%    12.250000  150.250000\n",
       "max    20.000000  400.000000"
      ]
     },
     "execution_count": 4,
     "metadata": {},
     "output_type": "execute_result"
    }
   ],
   "source": [
    "# Describe the dataset\n",
    "square.describe()"
   ]
  },
  {
   "cell_type": "code",
   "execution_count": 5,
   "id": "479606ee",
   "metadata": {},
   "outputs": [
    {
     "name": "stdout",
     "output_type": "stream",
     "text": [
      "(32, 1)\n",
      "(32, 1)\n"
     ]
    }
   ],
   "source": [
    "# Splitting dataset into independent (x) and (y) variables\n",
    "X = square.iloc[:, 0].values\n",
    "Y = square.iloc[:, 1].values\n",
    "\n",
    "# Reshape the dat set\n",
    "X = X.reshape(square.shape[0], 1) # Dimension: (32, 1)\n",
    "Y = Y.reshape(square.shape[0], 1) # Dimension: (32, 1)\n",
    "\n",
    "# Print input and output size\n",
    "print(X.shape)\n",
    "print(Y.shape)"
   ]
  },
  {
   "cell_type": "code",
   "execution_count": 6,
   "id": "8b74788a",
   "metadata": {},
   "outputs": [
    {
     "data": {
      "image/png": "[encoded data removed]",
      "text/plain": [
       "<Figure size 432x288 with 1 Axes>"
      ]
     },
     "metadata": {
      "needs_background": "light"
     },
     "output_type": "display_data"
    }
   ],
   "source": [
    "# Visualize the dataset\n",
    "plt.scatter(X, Y)\n",
    "plt.title('Simple training model')\n",
    "plt.show()"
   ]
  },
  {
   "cell_type": "markdown",
   "id": "d6a5716d",
   "metadata": {},
   "source": [
    "## 3 - Performing Deep Learning model"
   ]
  },
  {
   "cell_type": "code",
   "execution_count": 7,
   "id": "8f29c5b9",
   "metadata": {
    "scrolled": false
   },
   "outputs": [
    {
     "name": "stderr",
     "output_type": "stream",
     "text": [
      "2022-02-08 02:06:07.300717: I tensorflow/core/platform/cpu_feature_guard.cc:145] This TensorFlow binary is optimized with Intel(R) MKL-DNN to use the following CPU instructions in performance critical operations:  SSE4.1 SSE4.2 AVX AVX2 FMA\n",
      "To enable them in non-MKL-DNN operations, rebuild TensorFlow with the appropriate compiler flags.\n",
      "2022-02-08 02:06:07.301259: I tensorflow/core/common_runtime/process_util.cc:115] Creating new thread pool with default inter op setting: 16. Tune using inter_op_parallelism_threads for best performance.\n"
     ]
    },
    {
     "data": {
      "text/plain": [
       "<tensorflow.python.keras.callbacks.History at 0x7f8c15968150>"
      ]
     },
     "execution_count": 7,
     "metadata": {},
     "output_type": "execute_result"
    }
   ],
   "source": [
    "# Create a 2-hidden layer model to predict the data\n",
    "\"\"\"\n",
    "    Hidden layer #1 has 100 units and uses relu activation function\n",
    "    Hidden layer #2 has 100 units and uses relu activation function\n",
    "\"\"\"\n",
    "model = tf.keras.Sequential([\n",
    "    tf.keras.layers.Dense(100, activation = 'relu'),\n",
    "    tf.keras.layers.Dense(100, activation = 'relu'),\n",
    "    tf.keras.layers.Dense(1)\n",
    "])\n",
    "\n",
    "# Optimize the model using 'mean squared error' loss function and 'Adam' optimizing method\n",
    "model.compile(loss = 'mean_squared_error', \n",
    "              optimizer = tf.keras.optimizers.Adam(0.01))\n",
    "\n",
    "model.fit(X, Y, epochs = 1000, verbose = False)"
   ]
  },
  {
   "cell_type": "code",
   "execution_count": 8,
   "id": "b57ebfd5",
   "metadata": {},
   "outputs": [
    {
     "data": {
      "text/plain": [
       "'\\nY_preds_2D = []\\nfor elem1 in Y_preds:\\n    for elem2 in elem1:\\n        Y_preds_2D.append(elem2)\\n'"
      ]
     },
     "execution_count": 8,
     "metadata": {},
     "output_type": "execute_result"
    }
   ],
   "source": [
    "# Create a list of predicted output, each element in the list is a 2D numpy array\n",
    "Y_preds = []\n",
    "for i in np.linspace(0, 20, 32):\n",
    "    Y_preds.append(model.predict([i]))\n",
    "\n",
    "# Convert 3D list (Y_preds) to 2D numpy array\n",
    "Ypreds_3Dlist = np.array(Y_preds)\n",
    "Ypreds_2Dlist = Ypreds_3Dlist.reshape(32, 1)\n",
    "\n",
    "# Or use a manual algorithm (but take long time in large dataset)\n",
    "\"\"\"\n",
    "Y_preds_2D = []\n",
    "for elem1 in Y_preds:\n",
    "    for elem2 in elem1:\n",
    "        Y_preds_2D.append(elem2)\n",
    "\"\"\""
   ]
  },
  {
   "cell_type": "markdown",
   "id": "1ac2d1bb",
   "metadata": {},
   "source": [
    "## 4 - Plot the model"
   ]
  },
  {
   "cell_type": "code",
   "execution_count": 9,
   "id": "76068bb4",
   "metadata": {},
   "outputs": [
    {
     "data": {
      "text/plain": [
       "[<matplotlib.lines.Line2D at 0x7f8c17e74850>]"
      ]
     },
     "execution_count": 9,
     "metadata": {},
     "output_type": "execute_result"
    },
    {
     "data": {
      "image/png": "[encoded data removed]",
      "text/plain": [
       "<Figure size 720x576 with 1 Axes>"
      ]
     },
     "metadata": {
      "needs_background": "light"
     },
     "output_type": "display_data"
    }
   ],
   "source": [
    "fig, ax = plt.subplots()\n",
    "fig.set_size_inches(10, 8)\n",
    "plt.xlabel('input')\n",
    "plt.ylabel('output')\n",
    "plt.scatter(X, Y, label = \"training data\")\n",
    "plt.legend()\n",
    "plt.plot(np.linspace(0, 20, 32), Ypreds_2Dlist, c = 'r', label=\"predictions\")"
   ]
  }
 ],
 "metadata": {
  "kernelspec": {
   "display_name": "Python 3 (ipykernel)",
   "language": "python",
   "name": "python3"
  },
  "language_info": {
   "codemirror_mode": {
    "name": "ipython",
    "version": 3
   },
   "file_extension": ".py",
   "mimetype": "text/x-python",
   "name": "python",
   "nbconvert_exporter": "python",
   "pygments_lexer": "ipython3",
   "version": "3.7.11"
  }
 },
 "nbformat": 4,
 "nbformat_minor": 5
}
